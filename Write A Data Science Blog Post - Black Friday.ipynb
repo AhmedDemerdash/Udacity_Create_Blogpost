{
 "cells": [
  {
   "cell_type": "code",
   "execution_count": null,
   "metadata": {},
   "outputs": [],
   "source": [
    "#import necessary libraries\n",
    "import warnings\n",
    "\n",
    "import numpy as np\n",
    "import pandas as pd\n",
    "import seaborn as sns\n",
    "import matplotlib.pyplot as plt\n",
    "from sklearn.preprocessing import LabelEncoder\n",
    "%matplotlib inline"
   ]
  },
  {
   "cell_type": "markdown",
   "metadata": {},
   "source": [
    "### Business Understanding\n",
    "\n",
    "Black Friday is the 'official' kick off to the holiday shopping season, the most important shopping period. The 2018 Black Friday opened a shopping season which became the highest U.S. ecommerce sales day in history with $7.9 billion in revenue.  It's important for the sellers to look into the history sales data and prepare early for the next shopping season so as not to lose the grain. \n",
    "\n",
    "I'm going to perform some exploration on Black Friday Dataset From Kaggle. The task or questions I will target for as below:\n",
    "\n",
    "Question 1: Which User spent most during black Friday, list the top 20 spending users\n",
    "\n",
    "Question 2: How about the User Distribution by Age Group? And also consider Gender\n",
    "\n",
    "Question 3: Which products are most popular during Black Friday, list the top 20\n",
    "\n",
    "Question 4: Look at the users again, this time focus on group by Occupation in different city\n",
    "\n",
    "Question 5: Correlation between Gender, Age, Occupation, City_Category, Stay_In_Current_City_Years, Marital_Status, Product_Category_x vs Purchase\n",
    "\n",
    "Understanding these questions may provide some advice for the sellers to better understand the customer purchase behaviour against different products so that the seller can prepare for the next shopping season well."
   ]
  },
  {
   "cell_type": "markdown",
   "metadata": {},
   "source": [
    "### Data Understanding\n",
    "This project will use Black Friday Dataset From Kaggle, which is a sample of the transactions made in a retail store. \n",
    "\n",
    "Below are the steps to look at and understand the dataset."
   ]
  },
  {
   "cell_type": "code",
   "execution_count": null,
   "metadata": {},
   "outputs": [],
   "source": [
    "# Read in the Complete Dataset\n",
    "BlackFriday_Dataset = pd.read_csv('./BlackFriday.csv')\n",
    "BlackFriday_Dataset.head()"
   ]
  },
  {
   "cell_type": "code",
   "execution_count": null,
   "metadata": {},
   "outputs": [],
   "source": [
    "# Get the Basic info of the dataset\n",
    "BlackFriday_Dataset.describe()"
   ]
  },
  {
   "cell_type": "code",
   "execution_count": null,
   "metadata": {},
   "outputs": [],
   "source": [
    "BlackFriday_Dataset.info()"
   ]
  },
  {
   "cell_type": "code",
   "execution_count": null,
   "metadata": {},
   "outputs": [],
   "source": [
    "num_rows = BlackFriday_Dataset.shape[0] #Provide the number of rows    in the dataset\n",
    "num_cols = BlackFriday_Dataset.shape[1] #Provide the number of columns in the dataset\n",
    "print(\"Row    number: {}\".format(num_rows))\n",
    "print(\"Column number: {}\".format(num_cols))"
   ]
  },
  {
   "cell_type": "code",
   "execution_count": null,
   "metadata": {},
   "outputs": [],
   "source": [
    "# To check the column names in the dataset\n",
    "BlackFriday_Dataset.columns"
   ]
  },
  {
   "cell_type": "markdown",
   "metadata": {},
   "source": [
    "### Prepare Data\n",
    "Some data preparation steps need to be done before using the dataset for exploration, including：\n",
    "1. Checking columns with missing values and analyze impact\n",
    "2. Dealing with missing values\n",
    "3. One-Hot Encoding for Categorical variables such as Club, Nationality, Preferred Positions"
   ]
  },
  {
   "cell_type": "code",
   "execution_count": null,
   "metadata": {},
   "outputs": [],
   "source": [
    "# Data Preparation Step 1: check how many missing values are in the dataset\n",
    "BlackFriday_Dataset.isnull().sum()"
   ]
  },
  {
   "cell_type": "markdown",
   "metadata": {},
   "source": [
    "After check, missing values only exist in column \"Product_Category_2\" & \"Product_Category_3\". From the describe of the dataset, the min values of \"Product_Category_2\" & \"Product_Category_3\" are non-zero. My understanding is that the missing value in \"Product_Category_2\" & \"Product_Category_3\" means the customer didn't purchase products in these two category. Thus we can use \"0\" to fill in the missing value."
   ]
  },
  {
   "cell_type": "code",
   "execution_count": null,
   "metadata": {},
   "outputs": [],
   "source": [
    "# Data Preparation Step 2: Fill the missing cell with zero\n",
    "BlackFriday_Dataset.fillna(0)"
   ]
  },
  {
   "cell_type": "code",
   "execution_count": null,
   "metadata": {},
   "outputs": [],
   "source": [
    "# Data Preparation Step 3: One-Hot Encoding for Categorical variables\n",
    "# One-hot encode the feature:  Gender, Age, City_Category, Stay_in_curent_City_Years\n",
    "le = LabelEncoder()\n",
    "BlackFriday_Dataset['Gender_onehot_encode']              = le.fit_transform(BlackFriday_Dataset['Gender'].astype(str))\n",
    "BlackFriday_Dataset['Age_onehot_encode']                 = le.fit_transform(BlackFriday_Dataset['Age'].astype(str))\n",
    "BlackFriday_Dataset['City_Category_onehot_encode']       = le.fit_transform(BlackFriday_Dataset['City_Category'].astype(str))\n",
    "BlackFriday_Dataset['Stay_In_Current_City_Years_encode'] = le.fit_transform(BlackFriday_Dataset['Stay_In_Current_City_Years'].astype(str))"
   ]
  },
  {
   "cell_type": "code",
   "execution_count": null,
   "metadata": {},
   "outputs": [],
   "source": [
    "BlackFriday_Dataset.head()"
   ]
  },
  {
   "cell_type": "markdown",
   "metadata": {},
   "source": [
    "### Answer Questions base on dataset\n",
    "I have come up some question to be answered by the Data exploration"
   ]
  },
  {
   "cell_type": "code",
   "execution_count": null,
   "metadata": {},
   "outputs": [],
   "source": [
    "def plot_groupby(col1,col2):\n",
    "    plt.figure(figsize = (20,8))\n",
    "    BlackFriday_Dataset.groupby(col1)[col2].count().nlargest(20).sort_values().plot('barh')"
   ]
  },
  {
   "cell_type": "code",
   "execution_count": null,
   "metadata": {},
   "outputs": [],
   "source": [
    "# Question 1: Which User spent most during black Friday, list the top 20 spending users\n",
    "plot_groupby('User_ID','Purchase')"
   ]
  },
  {
   "cell_type": "markdown",
   "metadata": {},
   "source": [
    "It's important for the seller to identify high quality customers. These customers with higher purchase amount should be valued. Understanding the needs of these customers will help the merchant to make more suitable operational decisions, such as product type, pricing, after-sales, etc. Loyalty promgram, advertisments should be made to keep these customers continuing shopping with the merchant."
   ]
  },
  {
   "cell_type": "code",
   "execution_count": null,
   "metadata": {},
   "outputs": [],
   "source": [
    "# Question 2: How about the User Distribution by Age Group? And also consider Gender\n",
    "plt.figure(figsize = (20,8))\n",
    "sns.countplot(BlackFriday_Dataset['Age'])"
   ]
  },
  {
   "cell_type": "code",
   "execution_count": null,
   "metadata": {},
   "outputs": [],
   "source": [
    "plt.figure(figsize = (20,8))\n",
    "sns.countplot(BlackFriday_Dataset['Age'],hue=BlackFriday_Dataset['Gender'])"
   ]
  },
  {
   "cell_type": "markdown",
   "metadata": {},
   "source": [
    "We can find from the plot that most of the users who participate in the Black Friday Sale are from age group 26-35, 36-45 and 18-25, which is reasonable as these customers are in the golden age of their life.They make more money than other age groups, and they also have more shopping needs comparing to other age groups.\n",
    "\n",
    "From the second plot, we can find for all age group, Male customers shop more comparing to Female customers. I think this is because that the most worthwhile things to buy on the Black Friday are electrical appliances, small appliances, and game consoles. Apple products, especially iPad, the price of Black Five is the best in a year.Obviously such products are more popular with male customers."
   ]
  },
  {
   "cell_type": "code",
   "execution_count": null,
   "metadata": {},
   "outputs": [],
   "source": [
    "# Question 3: Which products are most popular during Black Friday, list the top 20\n",
    "plot_groupby('Product_ID','Purchase')"
   ]
  },
  {
   "cell_type": "markdown",
   "metadata": {},
   "source": [
    "List out the most popular products may help the merchant adjust their business strategy and can prepare for the next shopping season better so that to Increase revenue and profit."
   ]
  },
  {
   "cell_type": "code",
   "execution_count": null,
   "metadata": {},
   "outputs": [],
   "source": [
    "# Question 4: Look at the users again, this time focus on group by Occupation in different city\n",
    "plt.figure(figsize = (20,8))\n",
    "sns.countplot(BlackFriday_Dataset['Occupation'], hue = BlackFriday_Dataset[\"City_Category\"])"
   ]
  },
  {
   "cell_type": "markdown",
   "metadata": {},
   "source": [
    "The plot shows that for almost all Occupation Category, users from Citi B did more shopping compring to users from City A & Citi C. I think the reason is City B is larger than City A & Citi C and thus has a larger population. And customers from occupation 0, 4, 7 did more shopping than other occupations."
   ]
  },
  {
   "cell_type": "code",
   "execution_count": null,
   "metadata": {},
   "outputs": [],
   "source": [
    "# Question 5: Correlation between Gender, Age, Occupation, City_Category, Stay_In_Current_City_Years, Marital_Status, Product_Category_x vs Purchase\n",
    "Correlation_DF = BlackFriday_Dataset[['Gender_onehot_encode', 'Age_onehot_encode', 'Occupation', 'City_Category_onehot_encode', \n",
    "    'Stay_In_Current_City_Years_encode', 'Marital_Status', 'Product_Category_1', 'Product_Category_2', 'Product_Category_3', 'Purchase']]\n",
    "Correlation_DF.corr()"
   ]
  },
  {
   "cell_type": "code",
   "execution_count": null,
   "metadata": {
    "scrolled": true
   },
   "outputs": [],
   "source": [
    "colormap = plt.cm.inferno\n",
    "plt.figure(figsize=(16,12))\n",
    "plt.title('Correlation between Gender, Age, Occupation, City_Category, Stay_In_Current_City_Years, Marital_Status, Product_Category_x vs Purchase', y=1.05, size=15)\n",
    "sns.heatmap(Correlation_DF.corr(),linewidths=0.1,vmax=1.0, \n",
    "            square=True, cmap=colormap, linecolor='white', annot=True)"
   ]
  },
  {
   "cell_type": "markdown",
   "metadata": {},
   "source": [
    "From the correlation heatmap above, we can conclude that Gender & City_Category are most postive related to Purchase comparing to other features, while all Product_Category features are negative related to Purchase. Marital_Status, Stay_In_Current_City_Years are not so important features that relate to Purchase. All three Product_Category are highly correlated to each other. Besides that, we can also find that Martital_Status are highly related to Age, which is quite reasonable."
   ]
  },
  {
   "cell_type": "code",
   "execution_count": null,
   "metadata": {},
   "outputs": [],
   "source": []
  }
 ],
 "metadata": {
  "kernelspec": {
   "display_name": "Python 3",
   "language": "python",
   "name": "python3"
  },
  "language_info": {
   "codemirror_mode": {
    "name": "ipython",
    "version": 3
   },
   "file_extension": ".py",
   "mimetype": "text/x-python",
   "name": "python",
   "nbconvert_exporter": "python",
   "pygments_lexer": "ipython3",
   "version": "3.6.7"
  }
 },
 "nbformat": 4,
 "nbformat_minor": 2
}
